import yfinance as yf
import plotly.graph_objects as go
import pandas as pd

# Step 1: Fetch AAPL data for the last 30 days
ticker = 'AAPL'
data = yf.download(ticker, period='30d', interval='1d')

# Step 2: Reset index so date becomes a column
data.reset_index(inplace=True)

# Step 3: Plot candlestick chart using plotly
fig = go.Figure(data=[go.Candlestick(
    x=data['Date'],
    open=data['Open'],
    high=data['High'],
    low=data['Low'],
    close=data['Close'],
    increasing_line_color='green',
    decreasing_line_color='red'
)])

fig.update_layout(
    title=f'{ticker} Candlestick Chart - Last 30 Days',
    xaxis_title='Date',
    yaxis_title='Price (USD)',
    xaxis_rangeslider_visible=False
)

fig.show()

